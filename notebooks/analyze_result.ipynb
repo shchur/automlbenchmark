{
 "cells": [
  {
   "cell_type": "code",
   "execution_count": 1,
   "metadata": {},
   "outputs": [],
   "source": [
    "import matplotlib.pyplot as plt\n",
    "import pandas as pd\n",
    "from pathlib import Path"
   ]
  },
  {
   "cell_type": "code",
   "execution_count": 168,
   "metadata": {},
   "outputs": [],
   "source": [
    "df = pd.read_csv(\"/home/shchuro/data/af_amlb/solar_10_minutes_dataset/test.csv\")"
   ]
  },
  {
   "cell_type": "code",
   "execution_count": 174,
   "metadata": {},
   "outputs": [
    {
     "data": {
      "text/plain": [
       "52524      0.0\n",
       "52525      0.0\n",
       "52526      0.0\n",
       "52527      0.0\n",
       "52528      0.0\n",
       "          ... \n",
       "7200715    0.0\n",
       "7200716    0.0\n",
       "7200717    0.0\n",
       "7200718    0.0\n",
       "7200719    0.0\n",
       "Name: target, Length: 4932, dtype: float64"
      ]
     },
     "execution_count": 174,
     "metadata": {},
     "output_type": "execute_result"
    }
   ],
   "source": [
    "df.groupby(\"item_id\").tail(36)[\"target\"]"
   ]
  },
  {
   "cell_type": "code",
   "execution_count": 4,
   "metadata": {},
   "outputs": [],
   "source": [
    "results_dir = Path(\"/home/shchuro/workspace/amlb/results/\")\n",
    "run_name = \"autogluon_bestquality.ts2.8h16c.aws.20230707T202109\"\n",
    "run_dir = results_dir / run_name"
   ]
  },
  {
   "cell_type": "code",
   "execution_count": 227,
   "metadata": {},
   "outputs": [],
   "source": [
    "all_results = []\n",
    "for f in sorted(run_dir.iterdir()):\n",
    "    if f.is_dir():\n",
    "        results = pd.read_csv(f / \"output\" / \"results.csv\")\n",
    "        all_results.append(results)"
   ]
  },
  {
   "cell_type": "code",
   "execution_count": 232,
   "metadata": {},
   "outputs": [],
   "source": [
    "results_ag = pd.concat(all_results, ignore_index=True)\n",
    "results_ag = results_ag.rename(\n",
    "    columns={\"task\": \"dataset\", \"duration\": \"total_duration\"}\n",
    ").set_index([\"dataset\", \"framework\"])[[\"wql\", \"mase\", \"predict_duration\", \"total_duration\"]]"
   ]
  },
  {
   "cell_type": "code",
   "execution_count": 233,
   "metadata": {},
   "outputs": [],
   "source": [
    "results_af = pd.read_csv(\"af_results.csv\").fillna(method=\"ffill\").drop(\"Unnamed: 0\", axis=1)\n",
    "results_af = results_af.rename(\n",
    "    columns={\"DatasetName\": \"dataset\", \"Service\": \"framework\", \"AVG_WQL\": \"wql\", \"TotalTime\": \"total_duration\", \"ForecastTime\": \"predict_duration\", \"MASE\": \"mase\"}\n",
    ").set_index([\"dataset\", \"framework\"])[[\"wql\", \"mase\", \"predict_duration\", \"total_duration\"]]"
   ]
  },
  {
   "cell_type": "code",
   "execution_count": 234,
   "metadata": {},
   "outputs": [],
   "source": [
    "results = pd.concat([results_ag, results_af]).sort_index()\n",
    "results = results.query(\"framework != 'NewHorizon'\").unstack().dropna()"
   ]
  },
  {
   "cell_type": "markdown",
   "metadata": {},
   "source": [
    "## Setup\n",
    "- Evaluate AutoGluon (AG) and Amazon Forecast (AF) on 63 datasets using the WQL metric computed on P10, P50, P90\n",
    "\n",
    "## Results\n",
    "- AutoGluon fails on 13 out of 69 datasets for following reasons:\n",
    "    - 5x irregular DateTimeIndex (`airline_delay`, `iowa_liqour`, `iowa_liqour_subset`, `Kaggle_retail`, `online_retail_I`)\n",
    "    - 5x missing values represented by NaNs not supported by AG out of the box (`bitcoin_dataset_with_missing_values`, `car_parts_dataset_with_missing_values`, `kdd_cup_2018_dataset_with_missing_values`, `nn5_daily_dataset_with_missing_values`, `sunspot_dataset_with_missing_values`)\n",
    "    - 1x time series with length <= 2 in training data (`algo`)\n",
    "    - 1x OOM error for `DirectTabular` model (`m5`)\n",
    "    - 1x Installation error (???) (`pedestrian_counts_dataset`) - investigating\n",
    "\n",
    "For the remaining 56 datasets:\n",
    "- AutoGluon achieves better WQL than AF for 29 (52%) of the datasets with median WQL difference of 0.001\n",
    "    - TODO: Make sure that the metrics are computed consistently between the frameworks\n",
    "- AutoGluon is faster than AF for 56 (100%) of the datasets with median speedup of 3.5x (defined as `total_time_af / total_time_ag`) & median runtime difference of 3823 seconds (`total_time_af - total_time_ag`)."
   ]
  },
  {
   "cell_type": "code",
   "execution_count": 253,
   "metadata": {},
   "outputs": [],
   "source": [
    "af = \"AmazonForecast\"\n",
    "ag = \"AutoGluon_bestquality\"\n",
    "wql = results[\"wql\"]\n",
    "mase = results[\"mase\"]\n",
    "time = results[\"total_duration\"]"
   ]
  },
  {
   "cell_type": "code",
   "execution_count": 262,
   "metadata": {},
   "outputs": [
    {
     "data": {
      "text/plain": [
       "0.0009562500000000404"
      ]
     },
     "execution_count": 262,
     "metadata": {},
     "output_type": "execute_result"
    }
   ],
   "source": [
    "(wql[af] - wql[ag]).median()"
   ]
  },
  {
   "cell_type": "code",
   "execution_count": 259,
   "metadata": {},
   "outputs": [
    {
     "data": {
      "text/plain": [
       "3823.8"
      ]
     },
     "execution_count": 259,
     "metadata": {},
     "output_type": "execute_result"
    }
   ],
   "source": [
    "(time[af] - time[ag]).median()"
   ]
  },
  {
   "cell_type": "code",
   "execution_count": 258,
   "metadata": {},
   "outputs": [
    {
     "data": {
      "text/plain": [
       "3.22265209364153"
      ]
     },
     "execution_count": 258,
     "metadata": {},
     "output_type": "execute_result"
    }
   ],
   "source": [
    "(time[af] / time[ag]).median()"
   ]
  },
  {
   "cell_type": "code",
   "execution_count": 3,
   "metadata": {},
   "outputs": [],
   "source": [
    "ets = pd.read_csv(\"../results/autoets.timeseries.test.local.20230717T105456/scores/results.csv\")"
   ]
  },
  {
   "cell_type": "code",
   "execution_count": 4,
   "metadata": {},
   "outputs": [],
   "source": [
    "snaive = pd.read_csv(\"../results/seasonalnaiveforecast.timeseries.test.local.20230717T110853/scores/results.csv\")"
   ]
  },
  {
   "cell_type": "code",
   "execution_count": 9,
   "metadata": {},
   "outputs": [
    {
     "data": {
      "text/html": [
       "<div>\n",
       "<style scoped>\n",
       "    .dataframe tbody tr th:only-of-type {\n",
       "        vertical-align: middle;\n",
       "    }\n",
       "\n",
       "    .dataframe tbody tr th {\n",
       "        vertical-align: top;\n",
       "    }\n",
       "\n",
       "    .dataframe thead th {\n",
       "        text-align: right;\n",
       "    }\n",
       "</style>\n",
       "<table border=\"1\" class=\"dataframe\">\n",
       "  <thead>\n",
       "    <tr style=\"text-align: right;\">\n",
       "      <th></th>\n",
       "      <th>fold</th>\n",
       "      <th>rmse</th>\n",
       "      <th>mase</th>\n",
       "      <th>smape</th>\n",
       "      <th>mape</th>\n",
       "      <th>sql</th>\n",
       "      <th>wql</th>\n",
       "    </tr>\n",
       "  </thead>\n",
       "  <tbody>\n",
       "    <tr>\n",
       "      <th>0</th>\n",
       "      <td>0</td>\n",
       "      <td>1901.15</td>\n",
       "      <td>1.19321</td>\n",
       "      <td>0.139123</td>\n",
       "      <td>0.156120</td>\n",
       "      <td>0.665828</td>\n",
       "      <td>0.026355</td>\n",
       "    </tr>\n",
       "    <tr>\n",
       "      <th>1</th>\n",
       "      <td>1</td>\n",
       "      <td>2794.11</td>\n",
       "      <td>1.27521</td>\n",
       "      <td>0.151116</td>\n",
       "      <td>0.192171</td>\n",
       "      <td>0.716536</td>\n",
       "      <td>0.031972</td>\n",
       "    </tr>\n",
       "  </tbody>\n",
       "</table>\n",
       "</div>"
      ],
      "text/plain": [
       "   fold     rmse     mase     smape      mape       sql       wql\n",
       "0     0  1901.15  1.19321  0.139123  0.156120  0.665828  0.026355\n",
       "1     1  2794.11  1.27521  0.151116  0.192171  0.716536  0.031972"
      ]
     },
     "execution_count": 9,
     "metadata": {},
     "output_type": "execute_result"
    }
   ],
   "source": [
    "snaive[[\"fold\", \"rmse\", \"mase\", \"smape\", \"mape\", \"sql\", \"wql\"]]"
   ]
  },
  {
   "cell_type": "code",
   "execution_count": 10,
   "metadata": {},
   "outputs": [
    {
     "data": {
      "text/html": [
       "<div>\n",
       "<style scoped>\n",
       "    .dataframe tbody tr th:only-of-type {\n",
       "        vertical-align: middle;\n",
       "    }\n",
       "\n",
       "    .dataframe tbody tr th {\n",
       "        vertical-align: top;\n",
       "    }\n",
       "\n",
       "    .dataframe thead th {\n",
       "        text-align: right;\n",
       "    }\n",
       "</style>\n",
       "<table border=\"1\" class=\"dataframe\">\n",
       "  <thead>\n",
       "    <tr style=\"text-align: right;\">\n",
       "      <th></th>\n",
       "      <th>fold</th>\n",
       "      <th>rmse</th>\n",
       "      <th>mase</th>\n",
       "      <th>smape</th>\n",
       "      <th>mape</th>\n",
       "      <th>sql</th>\n",
       "      <th>wql</th>\n",
       "    </tr>\n",
       "  </thead>\n",
       "  <tbody>\n",
       "    <tr>\n",
       "      <th>0</th>\n",
       "      <td>0</td>\n",
       "      <td>2600.08</td>\n",
       "      <td>1.60941</td>\n",
       "      <td>0.172009</td>\n",
       "      <td>0.292844</td>\n",
       "      <td>1.09660</td>\n",
       "      <td>0.044856</td>\n",
       "    </tr>\n",
       "    <tr>\n",
       "      <th>1</th>\n",
       "      <td>1</td>\n",
       "      <td>3180.03</td>\n",
       "      <td>1.66247</td>\n",
       "      <td>0.183552</td>\n",
       "      <td>0.317726</td>\n",
       "      <td>1.23566</td>\n",
       "      <td>0.056119</td>\n",
       "    </tr>\n",
       "  </tbody>\n",
       "</table>\n",
       "</div>"
      ],
      "text/plain": [
       "   fold     rmse     mase     smape      mape      sql       wql\n",
       "0     0  2600.08  1.60941  0.172009  0.292844  1.09660  0.044856\n",
       "1     1  3180.03  1.66247  0.183552  0.317726  1.23566  0.056119"
      ]
     },
     "execution_count": 10,
     "metadata": {},
     "output_type": "execute_result"
    }
   ],
   "source": [
    "ets[[\"fold\", \"rmse\", \"mase\", \"smape\", \"mape\", \"sql\", \"wql\"]]"
   ]
  }
 ],
 "metadata": {
  "kernelspec": {
   "display_name": "ag",
   "language": "python",
   "name": "python3"
  },
  "language_info": {
   "codemirror_mode": {
    "name": "ipython",
    "version": 3
   },
   "file_extension": ".py",
   "mimetype": "text/x-python",
   "name": "python",
   "nbconvert_exporter": "python",
   "pygments_lexer": "ipython3",
   "version": "3.9.16"
  },
  "orig_nbformat": 4
 },
 "nbformat": 4,
 "nbformat_minor": 2
}
